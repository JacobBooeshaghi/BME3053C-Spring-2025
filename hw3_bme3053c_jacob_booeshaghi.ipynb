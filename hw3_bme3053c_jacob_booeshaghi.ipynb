{
  "nbformat": 4,
  "nbformat_minor": 0,
  "metadata": {
    "colab": {
      "provenance": [],
      "authorship_tag": "ABX9TyOBVfr+A6ZdNcSbwLSJcUp1",
      "include_colab_link": true
    },
    "kernelspec": {
      "name": "python3",
      "display_name": "Python 3"
    },
    "language_info": {
      "name": "python"
    }
  },
  "cells": [
    {
      "cell_type": "markdown",
      "metadata": {
        "id": "view-in-github",
        "colab_type": "text"
      },
      "source": [
        "<a href=\"https://colab.research.google.com/github/JacobBooeshaghi/BME3053C-Spring-2025/blob/main/hw3_bme3053c_jacob_booeshaghi.ipynb\" target=\"_parent\"><img src=\"https://colab.research.google.com/assets/colab-badge.svg\" alt=\"Open In Colab\"/></a>"
      ]
    },
    {
      "cell_type": "markdown",
      "source": [
        "Pulse oximetry is a non-invasive method used to measure the oxygen saturation (SpO2) level in the blood. The device measures the absorption of light at two wavelengths (usually red and infrared) to estimate SpO2. One of the challenges in pulse oximetry is identifying and analyzing peaks in the photoplethysmogram (PPG) signal, which corresponds to the heartbeats.\n",
        "\n",
        "\n",
        "\n",
        "You have a list of PPG signal values (simulated data) over time, sampled at regular intervals. Your task is to write a function that counts the number of peaks in the PPG signal using a for loop and range.\n",
        "\n",
        "\n",
        "\n",
        "Copy the code below into a python file or Colab notebook.\n",
        "Create a function that receives a list as an input argument and uses a for loop with range to iterate through the PPG signal values and identify peaks.\n",
        "A peak is a signal point where the value is greater than its immediate neighbors. Specifically, for a value at index i to be considered a peak, it must satisfy:\n",
        "ppg_signal[i] > ppg_signal[i - 1]\n",
        "ppg_signal[i] > ppg_signal[i + 1]\n",
        "Your function should count the total number of peaks and print that value.\n",
        "Call your function with ppg_signal as the input.\n",
        "Upload your script or notebook.\n",
        "\n",
        "\n",
        "import math\n",
        "import random\n",
        "\n",
        "ppg_signal = [1000 + 100 * math.sin(0.1 * x) + random.randint(-20, 20) for x in range(100)]"
      ],
      "metadata": {
        "id": "JROsEg0qa1o3"
      }
    },
    {
      "cell_type": "code",
      "execution_count": 11,
      "metadata": {
        "colab": {
          "base_uri": "https://localhost:8080/"
        },
        "id": "NqKBFZksa0fs",
        "outputId": "67f752c9-9f1c-4b51-8d24-17fa4061d1d0"
      },
      "outputs": [
        {
          "output_type": "stream",
          "name": "stdout",
          "text": [
            "Number of peaks: 31\n"
          ]
        }
      ],
      "source": [
        "import math\n",
        "import random\n",
        "\n",
        "ppg_signal = [1000 + 100 * math.sin(0.1 * x) + random.randint(-20, 20) for x in range(100)]\n",
        "\n",
        "def count_peaks(ppg_signal):\n",
        "    peak_count = 0\n",
        "    for i in range(1, len(ppg_signal) - 1):\n",
        "        if ppg_signal[i] > ppg_signal[i - 1] and ppg_signal[i] > ppg_signal[i + 1]:\n",
        "            peak_count += 1\n",
        "    print(\"Number of peaks:\", peak_count)\n",
        "\n",
        "count_peaks(ppg_signal)\n"
      ]
    }
  ]
}