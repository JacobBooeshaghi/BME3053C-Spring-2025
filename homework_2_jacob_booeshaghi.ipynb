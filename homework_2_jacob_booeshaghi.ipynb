{
  "nbformat": 4,
  "nbformat_minor": 0,
  "metadata": {
    "colab": {
      "provenance": [],
      "authorship_tag": "ABX9TyONrnJao4TtJ+94cmAqkzC0",
      "include_colab_link": true
    },
    "kernelspec": {
      "name": "python3",
      "display_name": "Python 3"
    },
    "language_info": {
      "name": "python"
    }
  },
  "cells": [
    {
      "cell_type": "markdown",
      "metadata": {
        "id": "view-in-github",
        "colab_type": "text"
      },
      "source": [
        "<a href=\"https://colab.research.google.com/github/JacobBooeshaghi/BME3053C-Spring-2025/blob/main/homework_2_jacob_booeshaghi.ipynb\" target=\"_parent\"><img src=\"https://colab.research.google.com/assets/colab-badge.svg\" alt=\"Open In Colab\"/></a>"
      ]
    },
    {
      "cell_type": "markdown",
      "source": [
        "Task 1:\n",
        "\n",
        "You have a list of systolic blood pressure readings (in mmHg) collected from a patient over time. For further analysis, you need to normalize them to a scale from 0 to 1. The formula to normalize a value x is:\n",
        "\n",
        "\n",
        "$normalized\\_value = \\frac{x - min\\_value}{max\\_value - mim\\_value}$\n",
        "\n",
        "\n",
        "\n",
        "Where min_value is the minimum value in the list, and max_value is the maximum value in the list.​\n",
        "\n",
        "\n",
        "\n",
        "For the list of systolic blood pressure readings below, complete the following:\n",
        "\n",
        "\n",
        "\n",
        "bp_readings = [120, 137, 151, 123, 162, 173, 127, 154]\n",
        "\n",
        "\n",
        "\n",
        "1. Create a new script or a notebook on Colab and copy the list above into the first cell.\n",
        "\n",
        "2. Create a function that will receive an array as an input and:\n",
        "\n",
        "    A. Use built-in Python functions to find the min and max of the array.\n",
        "\n",
        "    B. Use a for loop to iterate through the list and normalize each reading using the formula provided.\n",
        "\n",
        "    C. Return a list that contains normalized values.\n",
        "\n",
        "3. Call your function and print the output.\n",
        "\n",
        "4. Upload your script or notebook."
      ],
      "metadata": {
        "id": "Z5UCcVisJ4X9"
      }
    },
    {
      "cell_type": "code",
      "execution_count": 1,
      "metadata": {
        "colab": {
          "base_uri": "https://localhost:8080/"
        },
        "id": "1ERY29bGI930",
        "outputId": "75b05481-4a7b-434b-da58-4f7c45eef071"
      },
      "outputs": [
        {
          "output_type": "stream",
          "name": "stdout",
          "text": [
            "[0.0, 0.32075471698113206, 0.5849056603773585, 0.05660377358490566, 0.7924528301886793, 1.0, 0.1320754716981132, 0.6415094339622641]\n"
          ]
        }
      ],
      "source": [
        "bp_readings = [120, 137, 151, 123, 162, 173, 127, 154]\n",
        "\n",
        "def normalize_blood_pressure(bp_readings):\n",
        "  min_value = min(bp_readings)\n",
        "  max_value = max(bp_readings)\n",
        "  normalized_readings = []\n",
        "  for reading in bp_readings:\n",
        "    normalized_reading = (reading - min_value) / (max_value - min_value)\n",
        "    normalized_readings.append(normalized_reading)\n",
        "  return normalized_readings\n",
        "\n",
        "print(normalize_blood_pressure(bp_readings))\n"
      ]
    }
  ]
}